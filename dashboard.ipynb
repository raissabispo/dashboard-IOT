{
  "nbformat": 4,
  "nbformat_minor": 0,
  "metadata": {
    "colab": {
      "provenance": [],
      "authorship_tag": "ABX9TyMXH7crKI/DoYU+1+AkvM07",
      "include_colab_link": true
    },
    "kernelspec": {
      "name": "python3",
      "display_name": "Python 3"
    },
    "language_info": {
      "name": "python"
    }
  },
  "cells": [
    {
      "cell_type": "markdown",
      "metadata": {
        "id": "view-in-github",
        "colab_type": "text"
      },
      "source": [
        "<a href=\"https://colab.research.google.com/github/raissabispo/dashboard-IOT/blob/main/dashboard.ipynb\" target=\"_parent\"><img src=\"https://colab.research.google.com/assets/colab-badge.svg\" alt=\"Open In Colab\"/></a>"
      ]
    },
    {
      "cell_type": "code",
      "source": [
        "!pip install plotly --quiet"
      ],
      "metadata": {
        "id": "RNW93aO27BgC"
      },
      "execution_count": null,
      "outputs": []
    },
    {
      "cell_type": "code",
      "execution_count": null,
      "metadata": {
        "id": "1sA8XdGU5CzV"
      },
      "outputs": [],
      "source": [
        "import requests\n",
        "import pandas as pd\n",
        "import matplotlib.pyplot as plt\n",
        "import datetime"
      ]
    },
    {
      "cell_type": "code",
      "source": [
        "CHANNEL_ID = \"2943258\"\n",
        "URL = f\"https://api.thingspeak.com/channels/{CHANNEL_ID}/feeds.json?results=50\""
      ],
      "metadata": {
        "id": "yrEuyjGL5K6e"
      },
      "execution_count": null,
      "outputs": []
    },
    {
      "cell_type": "code",
      "source": [
        "resp = requests.get(URL)\n",
        "resp.raise_for_status()\n",
        "data = resp.json()\n",
        "\n",
        "#DataFrame\n",
        "feeds = data.get(\"feeds\", [])\n",
        "df = pd.DataFrame(feeds)\n",
        "df = df[[\"created_at\", \"field1\", \"field2\"]].rename(\n",
        "    columns={\"created_at\": \"DataHora\", \"field1\": \"Umidade\", \"field2\": \"Temperatura\"}\n",
        ")\n",
        "\n",
        "#Conversões\n",
        "df[\"DataHora\"] = pd.to_datetime(df[\"DataHora\"], utc=True)\n",
        "df[\"DataHora\"] = df[\"DataHora\"].dt.tz_convert(\"America/Sao_Paulo\")\n",
        "df[\"Umidade\"] = pd.to_numeric(df[\"Umidade\"], errors=\"coerce\")\n",
        "df[\"Temperatura\"] = pd.to_numeric(df[\"Temperatura\"], errors=\"coerce\")\n",
        "\n",
        "# Traces\n",
        "trace_umid = go.Scatter(\n",
        "    x=df[\"DataHora\"], y=df[\"Umidade\"],\n",
        "    mode=\"lines+markers\",\n",
        "    name=\"Umidade (%)\",\n",
        "    line=dict(shape=\"spline\", width=2.5, color=\"blue\"),\n",
        "    marker=dict(size=6, color=\"blue\"),\n",
        "    hovertemplate=\"%{y:.1f}%<br>%{x|%H:%M, %d/%m}\"\n",
        ")\n",
        "\n",
        "trace_temp = go.Scatter(\n",
        "    x=df[\"DataHora\"], y=df[\"Temperatura\"],\n",
        "    mode=\"lines+markers\",\n",
        "    name=\"Temperatura (°C)\",\n",
        "    line=dict(shape=\"spline\", width=2.5, color=\"red\"),\n",
        "    marker=dict(size=6, color=\"red\"),\n",
        "    hovertemplate=\"%{y:.1f}°C<br>%{x|%H:%M, %d/%m}\"\n",
        ")\n",
        "\n",
        "#Dashboard com botões\n",
        "fig = go.Figure(data=[trace_umid, trace_temp])\n",
        "\n",
        "fig.update_layout(\n",
        "    title=\"Dashboard IoT - Umidade & Temperatura\",\n",
        "    template=\"plotly_white\",\n",
        "    plot_bgcolor=\"rgba(250,250,250,1)\",\n",
        "    paper_bgcolor=\"rgba(250,250,250,1)\",\n",
        "    xaxis_title=\"Data/Hora\",\n",
        "    yaxis_title=\"Valor\",\n",
        "    xaxis=dict(showgrid=True, gridcolor=\"#e6e6e6\"),\n",
        "    yaxis=dict(showgrid=True, gridcolor=\"#e6e6e6\"),\n",
        "    legend=dict(\n",
        "        orientation=\"h\",\n",
        "        yanchor=\"bottom\", y=1.02,\n",
        "        xanchor=\"center\", x=0.5\n",
        "    ),\n",
        "    margin=dict(l=40, r=20, t=60, b=60),\n",
        "    updatemenus=[dict(\n",
        "        type=\"buttons\",\n",
        "        direction=\"right\",\n",
        "        active=0,\n",
        "        x=0.1, y=1.15,\n",
        "        buttons=[\n",
        "            dict(label=\"Ambos\",\n",
        "                 method=\"update\",\n",
        "                 args=[{\"visible\": [True, True]},\n",
        "                       {\"title\": \"Umidade & Temperatura\"}]),\n",
        "            dict(label=\"Umidade\",\n",
        "                 method=\"update\",\n",
        "                 args=[{\"visible\": [True, False]},\n",
        "                       {\"title\": \"Umidade\"}]),\n",
        "            dict(label=\"Temperatura\",\n",
        "                 method=\"update\",\n",
        "                 args=[{\"visible\": [False, True]},\n",
        "                       {\"title\": \"Temperatura\"}]),\n",
        "        ]\n",
        "    )]\n",
        ")\n",
        "\n",
        "# Últimas leituras\n",
        "fig.add_annotation(\n",
        "    x=df[\"DataHora\"].iloc[-1],\n",
        "    y=df[\"Umidade\"].iloc[-1],\n",
        "    text=f\"{df['Umidade'].iloc[-1]:.1f}%\",\n",
        "    showarrow=False,\n",
        "    font=dict(color=\"blue\", size=12),\n",
        "    bgcolor=\"rgba(255,255,255,0.7)\",\n",
        "    borderpad=3\n",
        ")\n",
        "\n",
        "fig.add_annotation(\n",
        "    x=df[\"DataHora\"].iloc[-1],\n",
        "    y=df[\"Temperatura\"].iloc[-1],\n",
        "    text=f\"{df['Temperatura'].iloc[-1]:.1f}°C\",\n",
        "    showarrow=False,\n",
        "    font=dict(color=\"red\", size=12),\n",
        "    bgcolor=\"rgba(255,255,255,0.7)\",\n",
        "    borderpad=3\n",
        ")\n",
        "\n",
        "fig.show()\n",
        "\n",
        "# Relatório resumido\n",
        "relatorio = pd.DataFrame({\n",
        "    \"Métrica\": [\"Umidade (%)\", \"Temperatura (°C)\"],\n",
        "    \"Média\": [df[\"Umidade\"].mean(), df[\"Temperatura\"].mean()],\n",
        "    \"Mínimo\": [df[\"Umidade\"].min(), df[\"Temperatura\"].min()],\n",
        "    \"Máximo\": [df[\"Umidade\"].max(), df[\"Temperatura\"].max()],\n",
        "    \"Última Leitura\": [df[\"Umidade\"].iloc[-1], df[\"Temperatura\"].iloc[-1]]\n",
        "})\n",
        "\n"
      ],
      "metadata": {
        "colab": {
          "base_uri": "https://localhost:8080/",
          "height": 542
        },
        "id": "9b-xhv065lPw",
        "outputId": "0285b62e-6da7-4afb-864c-dc2d06413c29"
      },
      "execution_count": null,
      "outputs": [
        {
          "output_type": "display_data",
          "data": {
            "text/html": [
              "<html>\n",
              "<head><meta charset=\"utf-8\" /></head>\n",
              "<body>\n",
              "    <div>            <script src=\"https://cdnjs.cloudflare.com/ajax/libs/mathjax/2.7.5/MathJax.js?config=TeX-AMS-MML_SVG\"></script><script type=\"text/javascript\">if (window.MathJax && window.MathJax.Hub && window.MathJax.Hub.Config) {window.MathJax.Hub.Config({SVG: {font: \"STIX-Web\"}});}</script>                <script type=\"text/javascript\">window.PlotlyConfig = {MathJaxConfig: 'local'};</script>\n",
              "        <script charset=\"utf-8\" src=\"https://cdn.plot.ly/plotly-2.35.2.min.js\"></script>                <div id=\"73597e23-52c9-498f-a45f-d088a4fda6ee\" class=\"plotly-graph-div\" style=\"height:525px; width:100%;\"></div>            <script type=\"text/javascript\">                                    window.PLOTLYENV=window.PLOTLYENV || {};                                    if (document.getElementById(\"73597e23-52c9-498f-a45f-d088a4fda6ee\")) {                    Plotly.newPlot(                        \"73597e23-52c9-498f-a45f-d088a4fda6ee\",                        [{\"hovertemplate\":\"%{y:.1f}%\\u003cbr\\u003e%{x|%H:%M, %d\\u002f%m}\",\"line\":{\"color\":\"blue\",\"shape\":\"spline\",\"width\":2.5},\"marker\":{\"color\":\"blue\",\"size\":6},\"mode\":\"lines+markers\",\"name\":\"Umidade (%)\",\"x\":[\"2025-09-17T11:09:00-03:00\",\"2025-09-17T11:09:30-03:00\",\"2025-09-17T11:10:01-03:00\",\"2025-09-17T11:10:32-03:00\",\"2025-09-17T11:11:03-03:00\",\"2025-09-17T11:11:33-03:00\",\"2025-09-17T11:12:04-03:00\",\"2025-09-17T11:12:35-03:00\",\"2025-09-17T11:13:05-03:00\",\"2025-09-17T11:13:36-03:00\",\"2025-09-17T11:14:07-03:00\",\"2025-09-17T11:14:38-03:00\",\"2025-09-17T11:15:08-03:00\",\"2025-09-17T11:15:39-03:00\",\"2025-09-17T11:16:10-03:00\",\"2025-09-17T11:16:41-03:00\",\"2025-09-17T11:17:11-03:00\",\"2025-09-17T11:17:42-03:00\",\"2025-09-17T11:18:13-03:00\",\"2025-09-17T11:18:43-03:00\",\"2025-09-17T11:19:14-03:00\",\"2025-09-17T11:19:45-03:00\",\"2025-09-17T11:20:16-03:00\",\"2025-09-17T11:20:46-03:00\",\"2025-09-17T11:21:17-03:00\",\"2025-09-17T11:21:48-03:00\",\"2025-09-17T11:22:18-03:00\",\"2025-09-17T11:22:49-03:00\",\"2025-09-17T11:23:20-03:00\",\"2025-09-17T11:23:51-03:00\",\"2025-09-17T11:24:21-03:00\",\"2025-09-17T11:24:52-03:00\",\"2025-09-17T11:25:23-03:00\",\"2025-09-17T11:25:54-03:00\",\"2025-09-17T11:26:24-03:00\",\"2025-09-17T11:26:55-03:00\",\"2025-09-17T11:27:26-03:00\",\"2025-09-17T11:27:56-03:00\",\"2025-09-17T11:28:27-03:00\",\"2025-09-17T11:28:58-03:00\",\"2025-09-17T11:29:28-03:00\",\"2025-09-17T11:29:59-03:00\",\"2025-09-17T11:30:30-03:00\",\"2025-09-17T11:31:01-03:00\",\"2025-09-17T11:31:32-03:00\",\"2025-09-17T11:32:02-03:00\",\"2025-09-17T11:32:33-03:00\",\"2025-09-17T11:33:04-03:00\",\"2025-09-17T11:33:35-03:00\",\"2025-09-17T11:34:05-03:00\"],\"y\":[168.0,146.0,137.0,177.0,122.0,169.0,183.0,200.0,131.0,164.0,198.0,166.0,121.0,151.0,146.0,146.0,187.0,130.0,101.0,187.0,183.0,152.0,132.0,122.0,195.0,172.0,178.0,132.0,124.0,143.0,144.0,140.0,167.0,129.0,132.0,171.0,124.0,176.0,178.0,182.0,133.0,159.0,168.0,198.0,159.0,137.0,141.0,179.0,123.0,155.0],\"type\":\"scatter\"},{\"hovertemplate\":\"%{y:.1f}°C\\u003cbr\\u003e%{x|%H:%M, %d\\u002f%m}\",\"line\":{\"color\":\"red\",\"shape\":\"spline\",\"width\":2.5},\"marker\":{\"color\":\"red\",\"size\":6},\"mode\":\"lines+markers\",\"name\":\"Temperatura (°C)\",\"x\":[\"2025-09-17T11:09:00-03:00\",\"2025-09-17T11:09:30-03:00\",\"2025-09-17T11:10:01-03:00\",\"2025-09-17T11:10:32-03:00\",\"2025-09-17T11:11:03-03:00\",\"2025-09-17T11:11:33-03:00\",\"2025-09-17T11:12:04-03:00\",\"2025-09-17T11:12:35-03:00\",\"2025-09-17T11:13:05-03:00\",\"2025-09-17T11:13:36-03:00\",\"2025-09-17T11:14:07-03:00\",\"2025-09-17T11:14:38-03:00\",\"2025-09-17T11:15:08-03:00\",\"2025-09-17T11:15:39-03:00\",\"2025-09-17T11:16:10-03:00\",\"2025-09-17T11:16:41-03:00\",\"2025-09-17T11:17:11-03:00\",\"2025-09-17T11:17:42-03:00\",\"2025-09-17T11:18:13-03:00\",\"2025-09-17T11:18:43-03:00\",\"2025-09-17T11:19:14-03:00\",\"2025-09-17T11:19:45-03:00\",\"2025-09-17T11:20:16-03:00\",\"2025-09-17T11:20:46-03:00\",\"2025-09-17T11:21:17-03:00\",\"2025-09-17T11:21:48-03:00\",\"2025-09-17T11:22:18-03:00\",\"2025-09-17T11:22:49-03:00\",\"2025-09-17T11:23:20-03:00\",\"2025-09-17T11:23:51-03:00\",\"2025-09-17T11:24:21-03:00\",\"2025-09-17T11:24:52-03:00\",\"2025-09-17T11:25:23-03:00\",\"2025-09-17T11:25:54-03:00\",\"2025-09-17T11:26:24-03:00\",\"2025-09-17T11:26:55-03:00\",\"2025-09-17T11:27:26-03:00\",\"2025-09-17T11:27:56-03:00\",\"2025-09-17T11:28:27-03:00\",\"2025-09-17T11:28:58-03:00\",\"2025-09-17T11:29:28-03:00\",\"2025-09-17T11:29:59-03:00\",\"2025-09-17T11:30:30-03:00\",\"2025-09-17T11:31:01-03:00\",\"2025-09-17T11:31:32-03:00\",\"2025-09-17T11:32:02-03:00\",\"2025-09-17T11:32:33-03:00\",\"2025-09-17T11:33:04-03:00\",\"2025-09-17T11:33:35-03:00\",\"2025-09-17T11:34:05-03:00\"],\"y\":[108.0,162.0,193.0,119.0,164.0,171.0,191.0,115.0,197.0,152.0,127.0,171.0,134.0,122.0,160.0,153.0,199.0,163.0,118.0,172.0,129.0,199.0,145.0,125.0,187.0,147.0,118.0,168.0,134.0,193.0,144.0,156.0,173.0,154.0,155.0,162.0,128.0,186.0,170.0,172.0,115.0,156.0,104.0,133.0,146.0,198.0,153.0,160.0,165.0,200.0],\"type\":\"scatter\"}],                        {\"template\":{\"data\":{\"barpolar\":[{\"marker\":{\"line\":{\"color\":\"white\",\"width\":0.5},\"pattern\":{\"fillmode\":\"overlay\",\"size\":10,\"solidity\":0.2}},\"type\":\"barpolar\"}],\"bar\":[{\"error_x\":{\"color\":\"#2a3f5f\"},\"error_y\":{\"color\":\"#2a3f5f\"},\"marker\":{\"line\":{\"color\":\"white\",\"width\":0.5},\"pattern\":{\"fillmode\":\"overlay\",\"size\":10,\"solidity\":0.2}},\"type\":\"bar\"}],\"carpet\":[{\"aaxis\":{\"endlinecolor\":\"#2a3f5f\",\"gridcolor\":\"#C8D4E3\",\"linecolor\":\"#C8D4E3\",\"minorgridcolor\":\"#C8D4E3\",\"startlinecolor\":\"#2a3f5f\"},\"baxis\":{\"endlinecolor\":\"#2a3f5f\",\"gridcolor\":\"#C8D4E3\",\"linecolor\":\"#C8D4E3\",\"minorgridcolor\":\"#C8D4E3\",\"startlinecolor\":\"#2a3f5f\"},\"type\":\"carpet\"}],\"choropleth\":[{\"colorbar\":{\"outlinewidth\":0,\"ticks\":\"\"},\"type\":\"choropleth\"}],\"contourcarpet\":[{\"colorbar\":{\"outlinewidth\":0,\"ticks\":\"\"},\"type\":\"contourcarpet\"}],\"contour\":[{\"colorbar\":{\"outlinewidth\":0,\"ticks\":\"\"},\"colorscale\":[[0.0,\"#0d0887\"],[0.1111111111111111,\"#46039f\"],[0.2222222222222222,\"#7201a8\"],[0.3333333333333333,\"#9c179e\"],[0.4444444444444444,\"#bd3786\"],[0.5555555555555556,\"#d8576b\"],[0.6666666666666666,\"#ed7953\"],[0.7777777777777778,\"#fb9f3a\"],[0.8888888888888888,\"#fdca26\"],[1.0,\"#f0f921\"]],\"type\":\"contour\"}],\"heatmapgl\":[{\"colorbar\":{\"outlinewidth\":0,\"ticks\":\"\"},\"colorscale\":[[0.0,\"#0d0887\"],[0.1111111111111111,\"#46039f\"],[0.2222222222222222,\"#7201a8\"],[0.3333333333333333,\"#9c179e\"],[0.4444444444444444,\"#bd3786\"],[0.5555555555555556,\"#d8576b\"],[0.6666666666666666,\"#ed7953\"],[0.7777777777777778,\"#fb9f3a\"],[0.8888888888888888,\"#fdca26\"],[1.0,\"#f0f921\"]],\"type\":\"heatmapgl\"}],\"heatmap\":[{\"colorbar\":{\"outlinewidth\":0,\"ticks\":\"\"},\"colorscale\":[[0.0,\"#0d0887\"],[0.1111111111111111,\"#46039f\"],[0.2222222222222222,\"#7201a8\"],[0.3333333333333333,\"#9c179e\"],[0.4444444444444444,\"#bd3786\"],[0.5555555555555556,\"#d8576b\"],[0.6666666666666666,\"#ed7953\"],[0.7777777777777778,\"#fb9f3a\"],[0.8888888888888888,\"#fdca26\"],[1.0,\"#f0f921\"]],\"type\":\"heatmap\"}],\"histogram2dcontour\":[{\"colorbar\":{\"outlinewidth\":0,\"ticks\":\"\"},\"colorscale\":[[0.0,\"#0d0887\"],[0.1111111111111111,\"#46039f\"],[0.2222222222222222,\"#7201a8\"],[0.3333333333333333,\"#9c179e\"],[0.4444444444444444,\"#bd3786\"],[0.5555555555555556,\"#d8576b\"],[0.6666666666666666,\"#ed7953\"],[0.7777777777777778,\"#fb9f3a\"],[0.8888888888888888,\"#fdca26\"],[1.0,\"#f0f921\"]],\"type\":\"histogram2dcontour\"}],\"histogram2d\":[{\"colorbar\":{\"outlinewidth\":0,\"ticks\":\"\"},\"colorscale\":[[0.0,\"#0d0887\"],[0.1111111111111111,\"#46039f\"],[0.2222222222222222,\"#7201a8\"],[0.3333333333333333,\"#9c179e\"],[0.4444444444444444,\"#bd3786\"],[0.5555555555555556,\"#d8576b\"],[0.6666666666666666,\"#ed7953\"],[0.7777777777777778,\"#fb9f3a\"],[0.8888888888888888,\"#fdca26\"],[1.0,\"#f0f921\"]],\"type\":\"histogram2d\"}],\"histogram\":[{\"marker\":{\"pattern\":{\"fillmode\":\"overlay\",\"size\":10,\"solidity\":0.2}},\"type\":\"histogram\"}],\"mesh3d\":[{\"colorbar\":{\"outlinewidth\":0,\"ticks\":\"\"},\"type\":\"mesh3d\"}],\"parcoords\":[{\"line\":{\"colorbar\":{\"outlinewidth\":0,\"ticks\":\"\"}},\"type\":\"parcoords\"}],\"pie\":[{\"automargin\":true,\"type\":\"pie\"}],\"scatter3d\":[{\"line\":{\"colorbar\":{\"outlinewidth\":0,\"ticks\":\"\"}},\"marker\":{\"colorbar\":{\"outlinewidth\":0,\"ticks\":\"\"}},\"type\":\"scatter3d\"}],\"scattercarpet\":[{\"marker\":{\"colorbar\":{\"outlinewidth\":0,\"ticks\":\"\"}},\"type\":\"scattercarpet\"}],\"scattergeo\":[{\"marker\":{\"colorbar\":{\"outlinewidth\":0,\"ticks\":\"\"}},\"type\":\"scattergeo\"}],\"scattergl\":[{\"marker\":{\"colorbar\":{\"outlinewidth\":0,\"ticks\":\"\"}},\"type\":\"scattergl\"}],\"scattermapbox\":[{\"marker\":{\"colorbar\":{\"outlinewidth\":0,\"ticks\":\"\"}},\"type\":\"scattermapbox\"}],\"scatterpolargl\":[{\"marker\":{\"colorbar\":{\"outlinewidth\":0,\"ticks\":\"\"}},\"type\":\"scatterpolargl\"}],\"scatterpolar\":[{\"marker\":{\"colorbar\":{\"outlinewidth\":0,\"ticks\":\"\"}},\"type\":\"scatterpolar\"}],\"scatter\":[{\"fillpattern\":{\"fillmode\":\"overlay\",\"size\":10,\"solidity\":0.2},\"type\":\"scatter\"}],\"scatterternary\":[{\"marker\":{\"colorbar\":{\"outlinewidth\":0,\"ticks\":\"\"}},\"type\":\"scatterternary\"}],\"surface\":[{\"colorbar\":{\"outlinewidth\":0,\"ticks\":\"\"},\"colorscale\":[[0.0,\"#0d0887\"],[0.1111111111111111,\"#46039f\"],[0.2222222222222222,\"#7201a8\"],[0.3333333333333333,\"#9c179e\"],[0.4444444444444444,\"#bd3786\"],[0.5555555555555556,\"#d8576b\"],[0.6666666666666666,\"#ed7953\"],[0.7777777777777778,\"#fb9f3a\"],[0.8888888888888888,\"#fdca26\"],[1.0,\"#f0f921\"]],\"type\":\"surface\"}],\"table\":[{\"cells\":{\"fill\":{\"color\":\"#EBF0F8\"},\"line\":{\"color\":\"white\"}},\"header\":{\"fill\":{\"color\":\"#C8D4E3\"},\"line\":{\"color\":\"white\"}},\"type\":\"table\"}]},\"layout\":{\"annotationdefaults\":{\"arrowcolor\":\"#2a3f5f\",\"arrowhead\":0,\"arrowwidth\":1},\"autotypenumbers\":\"strict\",\"coloraxis\":{\"colorbar\":{\"outlinewidth\":0,\"ticks\":\"\"}},\"colorscale\":{\"diverging\":[[0,\"#8e0152\"],[0.1,\"#c51b7d\"],[0.2,\"#de77ae\"],[0.3,\"#f1b6da\"],[0.4,\"#fde0ef\"],[0.5,\"#f7f7f7\"],[0.6,\"#e6f5d0\"],[0.7,\"#b8e186\"],[0.8,\"#7fbc41\"],[0.9,\"#4d9221\"],[1,\"#276419\"]],\"sequential\":[[0.0,\"#0d0887\"],[0.1111111111111111,\"#46039f\"],[0.2222222222222222,\"#7201a8\"],[0.3333333333333333,\"#9c179e\"],[0.4444444444444444,\"#bd3786\"],[0.5555555555555556,\"#d8576b\"],[0.6666666666666666,\"#ed7953\"],[0.7777777777777778,\"#fb9f3a\"],[0.8888888888888888,\"#fdca26\"],[1.0,\"#f0f921\"]],\"sequentialminus\":[[0.0,\"#0d0887\"],[0.1111111111111111,\"#46039f\"],[0.2222222222222222,\"#7201a8\"],[0.3333333333333333,\"#9c179e\"],[0.4444444444444444,\"#bd3786\"],[0.5555555555555556,\"#d8576b\"],[0.6666666666666666,\"#ed7953\"],[0.7777777777777778,\"#fb9f3a\"],[0.8888888888888888,\"#fdca26\"],[1.0,\"#f0f921\"]]},\"colorway\":[\"#636efa\",\"#EF553B\",\"#00cc96\",\"#ab63fa\",\"#FFA15A\",\"#19d3f3\",\"#FF6692\",\"#B6E880\",\"#FF97FF\",\"#FECB52\"],\"font\":{\"color\":\"#2a3f5f\"},\"geo\":{\"bgcolor\":\"white\",\"lakecolor\":\"white\",\"landcolor\":\"white\",\"showlakes\":true,\"showland\":true,\"subunitcolor\":\"#C8D4E3\"},\"hoverlabel\":{\"align\":\"left\"},\"hovermode\":\"closest\",\"mapbox\":{\"style\":\"light\"},\"paper_bgcolor\":\"white\",\"plot_bgcolor\":\"white\",\"polar\":{\"angularaxis\":{\"gridcolor\":\"#EBF0F8\",\"linecolor\":\"#EBF0F8\",\"ticks\":\"\"},\"bgcolor\":\"white\",\"radialaxis\":{\"gridcolor\":\"#EBF0F8\",\"linecolor\":\"#EBF0F8\",\"ticks\":\"\"}},\"scene\":{\"xaxis\":{\"backgroundcolor\":\"white\",\"gridcolor\":\"#DFE8F3\",\"gridwidth\":2,\"linecolor\":\"#EBF0F8\",\"showbackground\":true,\"ticks\":\"\",\"zerolinecolor\":\"#EBF0F8\"},\"yaxis\":{\"backgroundcolor\":\"white\",\"gridcolor\":\"#DFE8F3\",\"gridwidth\":2,\"linecolor\":\"#EBF0F8\",\"showbackground\":true,\"ticks\":\"\",\"zerolinecolor\":\"#EBF0F8\"},\"zaxis\":{\"backgroundcolor\":\"white\",\"gridcolor\":\"#DFE8F3\",\"gridwidth\":2,\"linecolor\":\"#EBF0F8\",\"showbackground\":true,\"ticks\":\"\",\"zerolinecolor\":\"#EBF0F8\"}},\"shapedefaults\":{\"line\":{\"color\":\"#2a3f5f\"}},\"ternary\":{\"aaxis\":{\"gridcolor\":\"#DFE8F3\",\"linecolor\":\"#A2B1C6\",\"ticks\":\"\"},\"baxis\":{\"gridcolor\":\"#DFE8F3\",\"linecolor\":\"#A2B1C6\",\"ticks\":\"\"},\"bgcolor\":\"white\",\"caxis\":{\"gridcolor\":\"#DFE8F3\",\"linecolor\":\"#A2B1C6\",\"ticks\":\"\"}},\"title\":{\"x\":0.05},\"xaxis\":{\"automargin\":true,\"gridcolor\":\"#EBF0F8\",\"linecolor\":\"#EBF0F8\",\"ticks\":\"\",\"title\":{\"standoff\":15},\"zerolinecolor\":\"#EBF0F8\",\"zerolinewidth\":2},\"yaxis\":{\"automargin\":true,\"gridcolor\":\"#EBF0F8\",\"linecolor\":\"#EBF0F8\",\"ticks\":\"\",\"title\":{\"standoff\":15},\"zerolinecolor\":\"#EBF0F8\",\"zerolinewidth\":2}}},\"xaxis\":{\"title\":{\"text\":\"Data\\u002fHora\"},\"showgrid\":true,\"gridcolor\":\"#e6e6e6\"},\"yaxis\":{\"title\":{\"text\":\"Valor\"},\"showgrid\":true,\"gridcolor\":\"#e6e6e6\"},\"legend\":{\"orientation\":\"h\",\"yanchor\":\"bottom\",\"y\":1.02,\"xanchor\":\"center\",\"x\":0.5},\"margin\":{\"l\":40,\"r\":20,\"t\":60,\"b\":60},\"title\":{\"text\":\"Dashboard IoT - Umidade & Temperatura\"},\"plot_bgcolor\":\"rgba(250,250,250,1)\",\"paper_bgcolor\":\"rgba(250,250,250,1)\",\"updatemenus\":[{\"active\":0,\"buttons\":[{\"args\":[{\"visible\":[true,true]},{\"title\":\"Umidade & Temperatura\"}],\"label\":\"Ambos\",\"method\":\"update\"},{\"args\":[{\"visible\":[true,false]},{\"title\":\"Umidade\"}],\"label\":\"Umidade\",\"method\":\"update\"},{\"args\":[{\"visible\":[false,true]},{\"title\":\"Temperatura\"}],\"label\":\"Temperatura\",\"method\":\"update\"}],\"direction\":\"right\",\"type\":\"buttons\",\"x\":0.1,\"y\":1.15}],\"annotations\":[{\"bgcolor\":\"rgba(255,255,255,0.7)\",\"borderpad\":3,\"font\":{\"color\":\"blue\",\"size\":12},\"showarrow\":false,\"text\":\"155.0%\",\"x\":\"2025-09-17T11:34:05-03:00\",\"y\":155.0},{\"bgcolor\":\"rgba(255,255,255,0.7)\",\"borderpad\":3,\"font\":{\"color\":\"red\",\"size\":12},\"showarrow\":false,\"text\":\"200.0°C\",\"x\":\"2025-09-17T11:34:05-03:00\",\"y\":200.0}]},                        {\"responsive\": true}                    ).then(function(){\n",
              "                            \n",
              "var gd = document.getElementById('73597e23-52c9-498f-a45f-d088a4fda6ee');\n",
              "var x = new MutationObserver(function (mutations, observer) {{\n",
              "        var display = window.getComputedStyle(gd).display;\n",
              "        if (!display || display === 'none') {{\n",
              "            console.log([gd, 'removed!']);\n",
              "            Plotly.purge(gd);\n",
              "            observer.disconnect();\n",
              "        }}\n",
              "}});\n",
              "\n",
              "// Listen for the removal of the full notebook cells\n",
              "var notebookContainer = gd.closest('#notebook-container');\n",
              "if (notebookContainer) {{\n",
              "    x.observe(notebookContainer, {childList: true});\n",
              "}}\n",
              "\n",
              "// Listen for the clearing of the current output cell\n",
              "var outputEl = gd.closest('.output');\n",
              "if (outputEl) {{\n",
              "    x.observe(outputEl, {childList: true});\n",
              "}}\n",
              "\n",
              "                        })                };                            </script>        </div>\n",
              "</body>\n",
              "</html>"
            ]
          },
          "metadata": {}
        }
      ]
    }
  ]
}